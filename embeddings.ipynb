{
 "cells": [
  {
   "cell_type": "code",
   "execution_count": 1,
   "id": "5340cd65-3b69-4e0d-bf59-ecb5e63c3edf",
   "metadata": {},
   "outputs": [
    {
     "name": "stdin",
     "output_type": "stream",
     "text": [
      "enter name SHALU\n",
      "enter id 9\n"
     ]
    }
   ],
   "source": [
    "import sys\n",
    "sys.path.append('//python programs//')\n",
    "import cv2 \n",
    "import face_recognition\n",
    "import pickle\n",
    "name=input(\"enter name\")\n",
    "ref_id=input(\"enter id\")\n",
    "\n",
    "try:\n",
    "\tf=open(\"RefName.pkl\",\"rb\")\n",
    "\tref_dictt=pickle.load(f)\n",
    "\tf.close()\n",
    "except:\n",
    "\tref_dictt={}\n",
    "ref_dictt[ref_id]=name\n",
    "\n",
    "\n",
    "f=open(\"RefName.pkl\",\"wb\")\n",
    "pickle.dump(ref_dictt,f)\n",
    "f.close()\n",
    "\n",
    "try:\n",
    "\tf=open(\"RefEmbed.pkl\",\"rb\")\n",
    "\tembed_dictt=pickle.load(f)\n",
    "\tf.close()\n",
    "except:\n",
    "\tembed_dictt={}\n",
    "\n",
    "\n",
    "for i in range(5):\n",
    "\tkey = cv2. waitKey(1)\n",
    "\twebcam = cv2.VideoCapture(0)\n",
    "\twhile True:\n",
    "\t     \n",
    "\t\tcheck, frame = webcam.read()\n",
    "\t\t# print(check) #prints true as long as the webcam is running\n",
    "\t\t# print(frame) #prints matrix values of each framecd \n",
    "\t\tcv2.imshow(\"Capturing\", frame)\n",
    "\t\tsmall_frame = cv2.resize(frame, (0, 0), fx=0.25, fy=0.25)\n",
    "\t\trgb_small_frame = small_frame[:, :, ::-1]\n",
    "\t\t\n",
    "\t\tkey = cv2.waitKey(1)\n",
    "\n",
    "\t\tif key == ord('s') : \n",
    "\t\t\tface_locations = face_recognition.face_locations(rgb_small_frame)\n",
    "\t\t\tif face_locations != []:\n",
    "\n",
    "\t\t\t\t# filename=\"photo.jpg\"\n",
    "\t\t\t\t# cv2.imwrite(filename=filename, img=frame)\n",
    "\t\t\t\t# image = face_recognition.load_image_file(filename)\n",
    "\t\t\t\t# image = Image.fromarray(frame)\n",
    "\t\t\t\t# image = image.convert('RGB')\n",
    "\t\t\t\tface_encoding = face_recognition.face_encodings(frame)[0]\n",
    "\t\t\t\tif ref_id in embed_dictt:\n",
    "\t\t\t\t\tembed_dictt[ref_id]+=[face_encoding]\n",
    "\t\t\t\telse:\n",
    "\t\t\t\t\tembed_dictt[ref_id]=[face_encoding]\n",
    "\t\t\t\twebcam.release()\n",
    "\t\t\t\t# img_new = cv2.imread('saved_img.jpg', cv2.IMREAD_GRAYSCALE)\n",
    "\t\t\t\t# img_new = cv2.imshow(\"Captured Image\", img_new)\n",
    "\t\t\t\tcv2.waitKey(1)\n",
    "\t\t\t\tcv2.destroyAllWindows()     \n",
    "\t\t\t\tbreak\n",
    "\t\telif key == ord('q'):\n",
    "\t\t\tprint(\"Turning off camera.\")\n",
    "\t\t\twebcam.release()\n",
    "\t\t\tprint(\"Camera off.\")\n",
    "\t\t\tprint(\"Program ended.\")\n",
    "\t\t\tcv2.destroyAllWindows()\n",
    "\t\t\tbreak\n",
    "f=open(\"RefEmbed.pkl\",\"wb\")\n",
    "pickle.dump(embed_dictt,f)\n",
    "f.close()"
   ]
  },
  {
   "cell_type": "code",
   "execution_count": null,
   "id": "395e1694-d7f2-4347-89c0-ea1dcfe00057",
   "metadata": {},
   "outputs": [],
   "source": []
  }
 ],
 "metadata": {
  "kernelspec": {
   "display_name": "Python 3",
   "language": "python",
   "name": "python3"
  },
  "language_info": {
   "codemirror_mode": {
    "name": "ipython",
    "version": 3
   },
   "file_extension": ".py",
   "mimetype": "text/x-python",
   "name": "python",
   "nbconvert_exporter": "python",
   "pygments_lexer": "ipython3",
   "version": "3.8.8"
  },
  "toc-autonumbering": true,
  "toc-showcode": true,
  "toc-showmarkdowntxt": true,
  "toc-showtags": true
 },
 "nbformat": 4,
 "nbformat_minor": 5
}
